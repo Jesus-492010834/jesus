{
 "cells": [
  {
   "cell_type": "markdown",
   "id": "d8df7024",
   "metadata": {},
   "source": [
    "# Python"
   ]
  },
  {
   "cell_type": "markdown",
   "id": "b01c4eeb",
   "metadata": {},
   "source": [
    "As we know in actuality exist a lot of programming languages like with a lot of characteristics and specialties one of them is python this one of the simplest to understand and execute as well as having enormous versatility by that reasons is one of the most popular and used in the world."
   ]
  },
  {
   "attachments": {
    "image.png": {
     "image/png": "[encoded data removed]"
    }
   },
   "cell_type": "markdown",
   "id": "a387240d",
   "metadata": {},
   "source": [
    "![image.png](attachment:image.png)"
   ]
  },
  {
   "cell_type": "markdown",
   "id": "1355561e",
   "metadata": {},
   "source": [
    "It has created at the end of 80's and the beginning of 90's by Guido van Rossum of Dutch origin, which began work with it for a simple hobby to continue whit the ABC language, in which he was working with his team in the CWM, and just a few years later one of the most innovators programming languages was born at 2000 with the name of python."
   ]
  },
  {
   "cell_type": "markdown",
   "id": "c6d4b715",
   "metadata": {},
   "source": [
    "But what can this great language do? Well, some of its functions are very varied and useful some of them will show below."
   ]
  },
  {
   "cell_type": "markdown",
   "id": "5d16246c",
   "metadata": {},
   "source": [
    "# Useful Knowledge"
   ]
  },
  {
   "cell_type": "markdown",
   "id": "607f0615",
   "metadata": {},
   "source": [
    "It is to be imagined that although python is an easy language to use, you must have a certain amount of knowledge on the subject to be able to work with this language for example if you want to write a number isn't necessary to definite the variable because python know that the thing you wrote is a number or a letter, another  thing is that you can choose the order of ejection inside the program that means that you can change parts in the code without affecting the rest one time that you know this you cold star to write in python.\n"
   ]
  },
  {
   "cell_type": "markdown",
   "id": "b11287ff",
   "metadata": {},
   "source": [
    "let's start with some simple "
   ]
  },
  {
   "cell_type": "markdown",
   "id": "b335fe77",
   "metadata": {},
   "source": [
    "## Print Statement"
   ]
  },
  {
   "cell_type": "markdown",
   "id": "7b9bd988",
   "metadata": {},
   "source": [
    "What is the print statement? well, this helps us to add a text inside our program, this can be written directly or saved in a variable and only invoke when necessary. it important to remember to use the function print() and within it the text or variable that you want to print always delimiting it by quotation marks (\"text\")"
   ]
  },
  {
   "cell_type": "markdown",
   "id": "69f625ac",
   "metadata": {},
   "source": [
    "### words"
   ]
  },
  {
   "cell_type": "markdown",
   "id": "4a5888e8",
   "metadata": {},
   "source": [
    "Example"
   ]
  },
  {
   "cell_type": "code",
   "execution_count": 16,
   "id": "47fb2beb",
   "metadata": {
    "scrolled": true
   },
   "outputs": [
    {
     "name": "stdout",
     "output_type": "stream",
     "text": [
      "Hello World\n",
      "what is your name?\n"
     ]
    }
   ],
   "source": [
    "print(\"Hello World\")\n",
    "print(\"what is\", \"your name?\")\n"
   ]
  },
  {
   "cell_type": "markdown",
   "id": "abb3d83b",
   "metadata": {},
   "source": [
    "And talking about variables we can do one and save some information inside it and summon it in the part of the code of our choice for example:"
   ]
  },
  {
   "cell_type": "code",
   "execution_count": 17,
   "id": "df1656cf",
   "metadata": {},
   "outputs": [
    {
     "name": "stdout",
     "output_type": "stream",
     "text": [
      "My name is jesus and i have 18 years old.\n"
     ]
    }
   ],
   "source": [
    "name = \"jesus\"\n",
    "age = 18\n",
    "print(\"¡Hi! my name is\", name, \"and i have\", age, \"years old.\")"
   ]
  },
  {
   "cell_type": "markdown",
   "id": "a71a08e0",
   "metadata": {},
   "source": [
    "*note: you should not put quotes inside quotes as a syntax error occurs.*"
   ]
  },
  {
   "cell_type": "code",
   "execution_count": 15,
   "id": "ad3d160d",
   "metadata": {
    "scrolled": true
   },
   "outputs": [
    {
     "ename": "SyntaxError",
     "evalue": "invalid syntax (<ipython-input-15-ee9bb2fa4bd0>, line 1)",
     "output_type": "error",
     "traceback": [
      "\u001b[1;36m  File \u001b[1;32m\"<ipython-input-15-ee9bb2fa4bd0>\"\u001b[1;36m, line \u001b[1;32m1\u001b[0m\n\u001b[1;33m    print(\"My mom said \"do not play in the outside\"\")\u001b[0m\n\u001b[1;37m                        ^\u001b[0m\n\u001b[1;31mSyntaxError\u001b[0m\u001b[1;31m:\u001b[0m invalid syntax\n"
     ]
    }
   ],
   "source": [
    "print(\"My mom said \"do not play in the outside\"\")"
   ]
  },
  {
   "cell_type": "markdown",
   "id": "4a16e3d8",
   "metadata": {},
   "source": [
    "To include quotation marks within quotation marks, we must write a slash (\\) before the quotation mark so that Python recognizes the quotation mark as a character and thus avoid the error."
   ]
  },
  {
   "cell_type": "code",
   "execution_count": 14,
   "id": "73e752d8",
   "metadata": {},
   "outputs": [
    {
     "name": "stdout",
     "output_type": "stream",
     "text": [
      "My mom said \"do not play in the outside\"\n"
     ]
    }
   ],
   "source": [
    "print(\"My mom said \\\"do not play in the outside\\\"\")"
   ]
  },
  {
   "cell_type": "markdown",
   "id": "6ed32dc0",
   "metadata": {},
   "source": [
    "### Maths Operations"
   ]
  },
  {
   "cell_type": "markdown",
   "id": "8cdcc56d",
   "metadata": {},
   "source": [
    "As you can imagine, in python you can also do mathematical operations such as addition, subtraction, multiplication, division, etc.\n",
    "For example:"
   ]
  },
  {
   "cell_type": "code",
   "execution_count": 19,
   "id": "4d3311b1",
   "metadata": {},
   "outputs": [
    {
     "name": "stdout",
     "output_type": "stream",
     "text": [
      "how much is 20 + 30?\n",
      "answer:\n",
      "50\n"
     ]
    }
   ],
   "source": [
    "print(\"how much is 20 + 30?\")\n",
    "print(\"answer:\")\n",
    "print(20+30)"
   ]
  },
  {
   "cell_type": "markdown",
   "id": "7a4cf57b",
   "metadata": {},
   "source": [
    "in the same way as the text you can also save nuericon values in the variables."
   ]
  },
  {
   "cell_type": "code",
   "execution_count": 25,
   "id": "f00fd1d4",
   "metadata": {
    "scrolled": false
   },
   "outputs": [
    {
     "name": "stdout",
     "output_type": "stream",
     "text": [
      "how much is 20 + 30?\n",
      "answer:\n",
      "50\n"
     ]
    }
   ],
   "source": [
    "no1 = 20 \n",
    "no2 = 30\n",
    "print(\"how much is 20 + 30?\")\n",
    "print(\"answer:\")\n",
    "print(no1 + no2)"
   ]
  },
  {
   "cell_type": "markdown",
   "id": "f9c73f16",
   "metadata": {},
   "source": [
    "based on the above, simple and small programs can be created."
   ]
  },
  {
   "cell_type": "markdown",
   "id": "90180c80",
   "metadata": {},
   "source": [
    "# If-else statement"
   ]
  },
  {
   "cell_type": "markdown",
   "id": "a1e70ef0",
   "metadata": {},
   "source": [
    "A Python if-else statement evaluates whether an expression is true or false. If the condition is true the \"if\" statement is executed. Otherwise, the \"else\" statement is executed. These if-else statements are very helpful, in controlling the flow of programs."
   ]
  },
  {
   "cell_type": "markdown",
   "id": "32b951b4",
   "metadata": {},
   "source": [
    "### If Statement"
   ]
  },
  {
   "cell_type": "markdown",
   "id": "af2fde4b",
   "metadata": {},
   "source": [
    "The if statement evaluates whether a condition is true or false. The statement will execute a cell of the code if the specified condition equals true. Otherwise, the code block within the if statement does not execute."
   ]
  },
  {
   "cell_type": "markdown",
   "id": "57b76cfd",
   "metadata": {},
   "source": [
    "example:"
   ]
  },
  {
   "cell_type": "code",
   "execution_count": 27,
   "id": "83811e3d",
   "metadata": {},
   "outputs": [
    {
     "name": "stdout",
     "output_type": "stream",
     "text": [
      "Price: $1.75\n"
     ]
    }
   ],
   "source": [
    "Order = \"tacos\"\n",
    "\n",
    "if Order == \"tacos\":\n",
    "\tprint(\"Price: $1.75\")"
   ]
  },
  {
   "cell_type": "markdown",
   "id": "e5597475",
   "metadata": {},
   "source": [
    "In case of having more than one condition, adjustments must be made. In this case, add the character \"and\" which allows us to add one more requirement to the condition."
   ]
  },
  {
   "cell_type": "code",
   "execution_count": 37,
   "id": "a330e0e7",
   "metadata": {
    "scrolled": true
   },
   "outputs": [
    {
     "name": "stdout",
     "output_type": "stream",
     "text": [
      "correct data\n"
     ]
    }
   ],
   "source": [
    "jose = 38 \n",
    "pedro = 23\n",
    "daniel = 18\n",
    "if jose >= pedro and daniel < pedro:\n",
    "    print(\"correct data\")"
   ]
  },
  {
   "cell_type": "markdown",
   "id": "9d8b3667",
   "metadata": {},
   "source": [
    "in the same way you can substute \"and\" for \"or\""
   ]
  },
  {
   "cell_type": "code",
   "execution_count": 38,
   "id": "0648d472",
   "metadata": {},
   "outputs": [
    {
     "name": "stdout",
     "output_type": "stream",
     "text": [
      "one data is correct\n"
     ]
    }
   ],
   "source": [
    "jose = 38 \n",
    "pedro = 23\n",
    "daniel = 18\n",
    "if jose >= pedro or daniel > pedro:\n",
    "    print(\"one data is correct\")"
   ]
  },
  {
   "cell_type": "markdown",
   "id": "d91368a4",
   "metadata": {},
   "source": [
    "### Else Statement"
   ]
  },
  {
   "cell_type": "markdown",
   "id": "19324550",
   "metadata": {},
   "source": [
    "the else statement is an extra option to the if which will be executed in case the if condition is false"
   ]
  },
  {
   "cell_type": "markdown",
   "id": "35c794e5",
   "metadata": {},
   "source": [
    "For example:"
   ]
  },
  {
   "cell_type": "code",
   "execution_count": 43,
   "id": "d964270e",
   "metadata": {},
   "outputs": [
    {
     "name": "stdout",
     "output_type": "stream",
     "text": [
      "Price: $2.10\n"
     ]
    }
   ],
   "source": [
    "Order = \"taco\"\n",
    "\n",
    "if Order == \"flauta\":\n",
    "    print(\"Price: $1.75\")\n",
    "else Order == \"taco\":\n",
    "    print(\"Price: $2.10\")\n"
   ]
  },
  {
   "cell_type": "markdown",
   "id": "85a05035",
   "metadata": {},
   "source": [
    "### Elif Statement"
   ]
  },
  {
   "cell_type": "markdown",
   "id": "8f8847e2",
   "metadata": {},
   "source": [
    "\"elif\" serves to link several \"else if\", in the same way it is useful to add a new condition to the code"
   ]
  },
  {
   "cell_type": "code",
   "execution_count": 46,
   "id": "2479678c",
   "metadata": {},
   "outputs": [
    {
     "name": "stdout",
     "output_type": "stream",
     "text": [
      "Price: $2.10\n"
     ]
    }
   ],
   "source": [
    "Order = \"taco\"\n",
    "\n",
    "if Order == \"sope\":\n",
    "    print(\"Price: $1.75\")\n",
    "elif Order == \"flauta\":\n",
    "    print(\"Price: $1.80\")\n",
    "elif Order == \"taco\":\n",
    "    print(\"Price: $2.10\")\n",
    "else:\n",
    "    print(\"Price: $2.00\")"
   ]
  },
  {
   "cell_type": "markdown",
   "id": "d76e3467",
   "metadata": {},
   "source": [
    "# Loops"
   ]
  },
  {
   "cell_type": "markdown",
   "id": "b01e53c4",
   "metadata": {},
   "source": [
    "is a loop that repeats the statement block a predetermined number of times.in python There are two types of loops \"for\" and \"whle\""
   ]
  },
  {
   "cell_type": "markdown",
   "id": "5d132294",
   "metadata": {},
   "source": [
    "### FOR Loop"
   ]
  },
  {
   "cell_type": "markdown",
   "id": "1e3db296",
   "metadata": {},
   "source": [
    "A for loop in programming is used when we want to repeat a set of instructions a finite number of times. as for example the prime numbers from 3 to 7"
   ]
  },
  {
   "cell_type": "code",
   "execution_count": 50,
   "id": "1e2fcc4b",
   "metadata": {},
   "outputs": [
    {
     "name": "stdout",
     "output_type": "stream",
     "text": [
      "[2, 3, 5, 7]\n",
      "[2, 3, 5, 7]\n",
      "[2, 3, 5, 7]\n",
      "[2, 3, 5, 7]\n"
     ]
    }
   ],
   "source": [
    "prims = [2,3,5,7]\n",
    "for prime in prims:\n",
    "    print (prims)"
   ]
  },
  {
   "cell_type": "markdown",
   "id": "cf084cca",
   "metadata": {},
   "source": [
    "### WHILE loop"
   ]
  },
  {
   "cell_type": "markdown",
   "id": "f1c9ffef",
   "metadata": {},
   "source": [
    "With while the code is repeated based on a condition, that is, as long as that condition is true. for example the count from 0 to 10"
   ]
  },
  {
   "cell_type": "code",
   "execution_count": 54,
   "id": "ea98cefd",
   "metadata": {},
   "outputs": [
    {
     "name": "stdout",
     "output_type": "stream",
     "text": [
      "0\n",
      "1\n",
      "2\n",
      "3\n",
      "4\n",
      "5\n",
      "6\n",
      "7\n",
      "8\n",
      "9\n",
      "10\n"
     ]
    }
   ],
   "source": [
    "count = 0\n",
    "while count < 11:\n",
    "    print (count)\n",
    "    count += 1 "
   ]
  },
  {
   "cell_type": "markdown",
   "id": "49a0a972",
   "metadata": {},
   "source": [
    "# Statements \"break\" and \"continue\""
   ]
  },
  {
   "cell_type": "markdown",
   "id": "278e7c71",
   "metadata": {},
   "source": [
    "break is used to exit a loop or a while loop, after this you can use the \"continue\" statement to continue with the execution of the system."
   ]
  },
  {
   "cell_type": "code",
   "execution_count": 59,
   "id": "96f1e68b",
   "metadata": {},
   "outputs": [
    {
     "name": "stdout",
     "output_type": "stream",
     "text": [
      "0\n",
      "1\n",
      "2\n",
      "3\n",
      "4\n"
     ]
    }
   ],
   "source": [
    "count = 0\n",
    "while True:\n",
    "    print (count)\n",
    "    count += 1\n",
    "    if count >= 5:\n",
    "        break"
   ]
  },
  {
   "cell_type": "code",
   "execution_count": 72,
   "id": "a5d6060c",
   "metadata": {},
   "outputs": [
    {
     "name": "stdout",
     "output_type": "stream",
     "text": [
      "1\n",
      "3\n",
      "5\n",
      "7\n",
      "9\n"
     ]
    }
   ],
   "source": [
    "for x in range(1,10):\n",
    "    \n",
    "    if x % 2 == 0:\n",
    "        continue\n",
    "    print (x)"
   ]
  },
  {
   "cell_type": "code",
   "execution_count": null,
   "id": "a2d8eb17",
   "metadata": {},
   "outputs": [],
   "source": []
  }
 ],
 "metadata": {
  "kernelspec": {
   "display_name": "Python 3",
   "language": "python",
   "name": "python3"
  },
  "language_info": {
   "codemirror_mode": {
    "name": "ipython",
    "version": 3
   },
   "file_extension": ".py",
   "mimetype": "text/x-python",
   "name": "python",
   "nbconvert_exporter": "python",
   "pygments_lexer": "ipython3",
   "version": "3.8.8"
  }
 },
 "nbformat": 4,
 "nbformat_minor": 5
}
